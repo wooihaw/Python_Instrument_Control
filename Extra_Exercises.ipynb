{
 "cells": [
  {
   "cell_type": "markdown",
   "id": "297f4e93",
   "metadata": {},
   "source": [
    "## Extra Exercises"
   ]
  },
  {
   "cell_type": "markdown",
   "id": "2a0d63a3",
   "metadata": {},
   "source": [
    "### Exercise 1\n",
    "Load the votlage waveform from the file 'data/noisy_signal.csv' and perform the following tasks:\n",
    "- Plot the waveform.\n",
    "- Attempt to filter the noise.\n",
    "- Plot the filtered waveform"
   ]
  },
  {
   "cell_type": "code",
   "execution_count": null,
   "id": "9051cd61",
   "metadata": {},
   "outputs": [],
   "source": []
  },
  {
   "cell_type": "markdown",
   "id": "45ad34b3",
   "metadata": {},
   "source": [
    "### Exercise 2\n",
    "Two voltage waveforms have been downloaded from an oscilloscope and stored in the CSV file format, where Channel 1 is connected to a current probe with the setting of 100mV/A, while Channel 2 is connected to a normal probe that measures the voltage. The file can be accessed as 'data/scope_0.csv'. Perform the following tasks:\n",
    "- Load the CSV file to plot the waveforms.\n",
    "- Filter the noise\n",
    "- Calculate the power and plot the power curve\n",
    "- Calculate the energy consumption"
   ]
  },
  {
   "cell_type": "code",
   "execution_count": null,
   "id": "280494f9",
   "metadata": {},
   "outputs": [],
   "source": []
  }
 ],
 "metadata": {
  "kernelspec": {
   "display_name": "Python 3",
   "language": "python",
   "name": "python3"
  },
  "language_info": {
   "codemirror_mode": {
    "name": "ipython",
    "version": 3
   },
   "file_extension": ".py",
   "mimetype": "text/x-python",
   "name": "python",
   "nbconvert_exporter": "python",
   "pygments_lexer": "ipython3",
   "version": "3.9.4"
  }
 },
 "nbformat": 4,
 "nbformat_minor": 5
}
